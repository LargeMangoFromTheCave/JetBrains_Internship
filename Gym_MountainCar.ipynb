{
  "nbformat": 4,
  "nbformat_minor": 0,
  "metadata": {
    "colab": {
      "name": "Gym MountainCar.ipynb",
      "provenance": [],
      "collapsed_sections": [],
      "authorship_tag": "ABX9TyPHkSrL0WeDERzTTz+XTu39",
      "include_colab_link": true
    },
    "kernelspec": {
      "name": "python3",
      "display_name": "Python 3"
    },
    "language_info": {
      "name": "python"
    },
    "accelerator": "GPU"
  },
  "cells": [
    {
      "cell_type": "markdown",
      "metadata": {
        "id": "view-in-github",
        "colab_type": "text"
      },
      "source": [
        "<a href=\"https://colab.research.google.com/github/LargeMangoFromTheCave/JetBrains_Internship/blob/main/Gym_MountainCar.ipynb\" target=\"_parent\"><img src=\"https://colab.research.google.com/assets/colab-badge.svg\" alt=\"Open In Colab\"/></a>"
      ]
    },
    {
      "cell_type": "code",
      "metadata": {
        "id": "mZin5GZoJzPn"
      },
      "source": [
        "import gym\n",
        "env = gym.make(\"MountainCar-v0\")"
      ],
      "execution_count": 1,
      "outputs": []
    },
    {
      "cell_type": "code",
      "metadata": {
        "id": "05lSFarCKASm"
      },
      "source": [
        "import torch\n",
        "from torch import Tensor\n",
        "import torch.nn as nn\n",
        "import torch.nn.functional as F\n",
        "import torch.optim as optim\n",
        "from torch.optim import lr_scheduler\n",
        "from torch.utils.data import DataLoader, TensorDataset\n",
        "\n",
        "import numpy as np\n",
        "import pandas as pd\n",
        "\n",
        "import time\n",
        "from pprint import pprint\n",
        "import copy\n"
      ],
      "execution_count": 2,
      "outputs": []
    },
    {
      "cell_type": "code",
      "metadata": {
        "id": "eiNEHpdHLVw7"
      },
      "source": [
        "import torch.nn as nn\n",
        "import torch\n",
        "\n",
        "device = torch.device(\"cuda\")\n",
        "def create_new_model():\n",
        "    model = nn.Sequential(\n",
        "        nn.Linear(2, 32),\n",
        "        nn.ReLU(),\n",
        "        nn.Linear(32, 32),\n",
        "        nn.ReLU(),\n",
        "        nn.Linear(32, 3)\n",
        "    )\n",
        "    target_model = copy.deepcopy(model)\n",
        "    \n",
        "    #Загружаем модель на устройство, определенное в самом начале (GPU или CPU)\n",
        "    model.to(device)\n",
        "    target_model.to(device)\n",
        "    \n",
        "    #Сразу зададим оптимизатор, с помощью которого будем обновлять веса модели\n",
        "    optimizer = optim.Adam(model.parameters(), lr=0.00003)\n",
        "    \n",
        "    return model, target_model, optimizer"
      ],
      "execution_count": 3,
      "outputs": []
    },
    {
      "cell_type": "code",
      "metadata": {
        "id": "c24BEAeCKHPT"
      },
      "source": [
        "gamma = 0.99\n",
        "def fit(batch, model, target_model, optimizer):\n",
        "    state, action, reward, next_state, done = batch\n",
        "    # Загружаем батч на выбранное ранее устройство\n",
        "    state = torch.tensor(state).to(device).float()\n",
        "    next_state = torch.tensor(next_state).to(device).float()\n",
        "    reward = torch.tensor(reward).to(device).float()\n",
        "    action = torch.tensor(action).to(device)\n",
        "    done = torch.tensor(done).to(device)\n",
        "\n",
        "    # Считаем то, какие значения должна выдавать наша сеть\n",
        "    target_q = torch.zeros(reward.size()[0]).float().to(device)\n",
        "    with torch.no_grad():\n",
        "        # Выбираем максимальное из значений Q-function для следующего состояния\n",
        "        target_q = target_model(next_state).max(1)[0].view(-1) \n",
        "        target_q[done] = 0\n",
        "    target_q = reward + target_q * gamma\n",
        "\n",
        "    # Текущее предсказание\n",
        "    q = model(state).gather(1, action.unsqueeze(1))\n",
        "\n",
        "    loss = F.mse_loss(q, target_q.unsqueeze(1))\n",
        "\n",
        "    # Очищаем текущие градиенты внутри сети\n",
        "    optimizer.zero_grad()\n",
        "    # Применяем обратное распространение  ошибки\n",
        "    loss.backward()\n",
        "    # Ограничиваем значения градиента. Необходимо, чтобы обновления не были слишком большими\n",
        "    for param in model.parameters():\n",
        "        param.grad.data.clamp_(-1, 1)\n",
        "    # Делаем шаг оптимизации\n",
        "    optimizer.step()"
      ],
      "execution_count": 4,
      "outputs": []
    },
    {
      "cell_type": "code",
      "metadata": {
        "id": "GHXZQYn_KAZL"
      },
      "source": [
        "def select_action(state, epsilon, model):\n",
        "    if random.random() < epsilon:\n",
        "        return random.randint(0, 2)\n",
        "    return model(torch.tensor(state).to(device).float().unsqueeze(0))[0].max(0)[1].view(1, 1).item()"
      ],
      "execution_count": 5,
      "outputs": []
    },
    {
      "cell_type": "code",
      "metadata": {
        "id": "B2UQtwf8Kkc6"
      },
      "source": [
        "class Memory:\n",
        "    def __init__(self, capacity):\n",
        "        self.capacity = capacity\n",
        "        self.memory = []\n",
        "        self.position = 0\n",
        "\n",
        "    def push(self, element):\n",
        "        \"\"\"Сохраняет элемент в циклический буфер\"\"\"\n",
        "        if len(self.memory) < self.capacity:\n",
        "            self.memory.append(None)\n",
        "        self.memory[self.position] = element\n",
        "        self.position = (self.position + 1) % self.capacity\n",
        "\n",
        "    def sample(self, batch_size):\n",
        "        \"\"\"Возвращает случайную выборку указанного размера\"\"\"\n",
        "        return list(zip(*random.sample(self.memory, batch_size)))\n",
        "    \n",
        "    def __len__(self):\n",
        "        return len(self.memory)"
      ],
      "execution_count": 6,
      "outputs": []
    },
    {
      "cell_type": "code",
      "metadata": {
        "id": "tVzR540vLsfV"
      },
      "source": [
        "#Количество обновлений model между обновлениями target model\n",
        "target_update = 1000\n",
        "#Размер одного батча, который на вход принимает модель\n",
        "batch_size = 128\n",
        "#Количество шагов среды\n",
        "max_steps = 100001\n",
        "#Границы коэффициента exploration\n",
        "max_epsilon = 0.5\n",
        "min_epsilon = 0.1\n",
        "\n",
        "def train():\n",
        "      #Создаем модель и буфер\n",
        "      memory = Memory(5000)\n",
        "      model, target_model, optimizer = create_new_model()\n",
        "\n",
        "      for step in range(max_steps):\n",
        "            #Делаем шаг в среде\n",
        "            epsilon = max_epsilon - (max_epsilon - min_epsilon)* step / max_steps\n",
        "            action = select_action(state, epsilon, model)\n",
        "            new_state, reward, done, _ = env.step(action)\n",
        "            #modified_reward = reward + 300 * (gamma * abs(new_state[1]) - abs(state[1]))\n",
        "\n",
        "            #Запоминаем опыт и, если нужно, перезапускаем среду\n",
        "            #memory.push((state, action, modified_reward, new_state, done))\n",
        "            memory.push((state, action, reward, new_state, done))\n",
        "            if done:\n",
        "                  state = env.reset()\n",
        "                  done = False\n",
        "            else:\n",
        "                  state = new_state\n",
        "\n",
        "            #Градиентный спуск\n",
        "            if step > batch_size:\n",
        "                 fit(memory.sample(batch_size), model, target_model, optimizer)\n",
        "\n",
        "            if step % target_update == 0:\n",
        "                  target_model = copy.deepcopy(model)\n",
        "      \n",
        "                  #Exploitation\n",
        "                  state = env.reset()\n",
        "                  total_reward = 0\n",
        "                  while not done:\n",
        "                        action = select_action(state, 0, target_model)\n",
        "                        state, reward, done, _ = env.step(action)\n",
        "                        total_reward += reward\n",
        "\n",
        "                  done = False\n",
        "                  state = env.reset()\n",
        "                  rewards_by_target_updates.append(total_reward)\n",
        "      return rewards_by_target_updates"
      ],
      "execution_count": 7,
      "outputs": []
    },
    {
      "cell_type": "code",
      "metadata": {
        "id": "jr03Mrk4LskA"
      },
      "source": [
        ""
      ],
      "execution_count": 7,
      "outputs": []
    },
    {
      "cell_type": "code",
      "metadata": {
        "id": "QYMaDDJzLsme"
      },
      "source": [
        ""
      ],
      "execution_count": 7,
      "outputs": []
    }
  ]
}